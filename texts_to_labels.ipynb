{
 "cells": [
  {
   "cell_type": "code",
   "execution_count": 2,
   "metadata": {},
   "outputs": [],
   "source": [
    "import os\n",
    "from dotenv import load_dotenv\n",
    "from langchain_core.prompts import PromptTemplate\n",
    "from langchain_core.pydantic_v1 import BaseModel, Field\n",
    "from langchain_openai import ChatOpenAI\n",
    "from langchain_core.messages import HumanMessage"
   ]
  },
  {
   "cell_type": "code",
   "execution_count": 13,
   "metadata": {},
   "outputs": [],
   "source": [
    "load_dotenv()\n",
    "API_KEY = os.getenv(\"TYPHOON_API_KEY\")\n",
    "\n",
    "tagging_prompt = PromptTemplate(\n",
    "    input_variables=[\"text\"],\n",
    "    template=\"Generate tags for the following text in both Thai and English:\\n\\nThai text: {text}\\n\\nTags:\\nThai: \\nEnglish: \"\n",
    "    )\n",
    "\n",
    "llm = ChatOpenAI(base_url='https://api.opentyphoon.ai/v1',\n",
    "                    model='typhoon-instruct',\n",
    "                    temperature=0.0,\n",
    "                    api_key=API_KEY)\n",
    "\n",
    "# resp = model.invoke([HumanMessage(content=\"สวัสดี\")])\n",
    "# print(resp.content)\n",
    "# Create a chain\n",
    "chain = tagging_prompt | llm"
   ]
  },
  {
   "cell_type": "code",
   "execution_count": 26,
   "metadata": {},
   "outputs": [
    {
     "data": {
      "text/plain": [
       "AIMessage(content='Thai: นำเข้า, ส่งออก, ผลิตหมวกกันน๊อค\\nEnglish: Import, Export, Helmet Production', response_metadata={'token_usage': {'completion_tokens': 29, 'prompt_tokens': 58, 'total_tokens': 87}, 'model_name': 'scb10x/llama-3-typhoon-v1.5-8b-instruct', 'system_fingerprint': None, 'finish_reason': 'stop', 'logprobs': None}, id='run-c946324b-9d11-4d86-aef2-a5e78be5252b-0', usage_metadata={'input_tokens': 58, 'output_tokens': 29, 'total_tokens': 87})"
      ]
     },
     "execution_count": 26,
     "metadata": {},
     "output_type": "execute_result"
    }
   ],
   "source": [
    "chain.invoke(\"ประกอบกิจการนำเข้าส่งออกผลิตหมวกกันน๊อค\")"
   ]
  },
  {
   "cell_type": "code",
   "execution_count": 25,
   "metadata": {},
   "outputs": [
    {
     "data": {
      "text/plain": [
       "['Thai: นำเข้า, ส่งออก, ผลิตหมวกกันน๊อค',\n",
       " 'English: Import, Export, Helmet Production']"
      ]
     },
     "execution_count": 25,
     "metadata": {},
     "output_type": "execute_result"
    }
   ],
   "source": [
    "chain.invoke(\"ประกอบกิจการนำเข้าส่งออกผลิตหมวกกันน๊อค\").content.split(\"\\n\")"
   ]
  },
  {
   "cell_type": "code",
   "execution_count": 24,
   "metadata": {},
   "outputs": [
    {
     "data": {
      "text/plain": [
       "['Thai: หมวกกันน็อก, โรงงาน, นำเข้า, ส่งออก, ท่อเหล็ก, เหล็กโครงสร้างรูปพรรณ, เหล็กแผ่น',\n",
       " 'English: Motorcycle helmet, factory, import, export, steel pipe, structural steel, steel sheet.']"
      ]
     },
     "execution_count": 24,
     "metadata": {},
     "output_type": "execute_result"
    }
   ],
   "source": [
    "chain.invoke(\"ประกอบกิจการนำเข้าส่งออกผลิตหมวกกันน๊อคประกอบกิจการโรงงานผลิต นำเข้า และส่งออก ผลิตภัณฑ์ท่อเหล็ก เหล็กโครงสร้างรูปพรรณ เหล็กแผ่น\").content.split(\"\\n\")"
   ]
  },
  {
   "cell_type": "code",
   "execution_count": 17,
   "metadata": {},
   "outputs": [],
   "source": [
    "result=chain.invoke(\"ประกอบกิจการนำเข้าส่งออกวัตถุดิบและอะไหล่ยานยนต์และการให้บริการด้านการดำเนินพิธีการศุลกากร\")"
   ]
  },
  {
   "cell_type": "code",
   "execution_count": 23,
   "metadata": {},
   "outputs": [
    {
     "data": {
      "text/plain": [
       "['Thai: นำเข้าส่งออก, วัตถุดิบยานยนต์, อะไหล่ยานยนต์, ศุลกากร',\n",
       " 'English: ImportExport, AutomotiveRawMaterial, AutomotiveParts, Customs']"
      ]
     },
     "execution_count": 23,
     "metadata": {},
     "output_type": "execute_result"
    }
   ],
   "source": [
    "result.content.split(\"\\n\")"
   ]
  }
 ],
 "metadata": {
  "kernelspec": {
   "display_name": "llmsenv",
   "language": "python",
   "name": "python3"
  },
  "language_info": {
   "codemirror_mode": {
    "name": "ipython",
    "version": 3
   },
   "file_extension": ".py",
   "mimetype": "text/x-python",
   "name": "python",
   "nbconvert_exporter": "python",
   "pygments_lexer": "ipython3",
   "version": "3.11.9"
  }
 },
 "nbformat": 4,
 "nbformat_minor": 2
}
