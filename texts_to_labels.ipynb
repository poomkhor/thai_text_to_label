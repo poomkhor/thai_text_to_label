{
 "cells": [
  {
   "cell_type": "code",
   "execution_count": 6,
   "metadata": {},
   "outputs": [],
   "source": [
    "import os\n",
    "from dotenv import load_dotenv\n",
    "from langchain_core.prompts import PromptTemplate\n",
    "from langchain_core.pydantic_v1 import BaseModel, Field\n",
    "from langchain_openai import ChatOpenAI\n",
    "from langchain_core.messages import HumanMessage"
   ]
  },
  {
   "cell_type": "code",
   "execution_count": 7,
   "metadata": {},
   "outputs": [],
   "source": [
    "load_dotenv()\n",
    "API_KEY = os.getenv(\"TYPHOON_API_KEY\")\n",
    "\n",
    "tagging_prompt = PromptTemplate(\n",
    "    input_variables=[\"text\"],\n",
    "    template=\"Generate tags for the following text in both Thai and English:\\n\\nThai text: {text}\\n\\nTags:\\nThai: \\nEnglish: \"\n",
    "    )\n",
    "\n",
    "llm = ChatOpenAI(base_url='https://api.opentyphoon.ai/v1',\n",
    "                    model='typhoon-instruct',\n",
    "                    temperature=0.0,\n",
    "                    api_key=API_KEY)\n",
    "\n",
    "# resp = model.invoke([HumanMessage(content=\"สวัสดี\")])\n",
    "# print(resp.content)\n",
    "# Create a chain\n",
    "chain = tagging_prompt | llm"
   ]
  },
  {
   "cell_type": "code",
   "execution_count": 8,
   "metadata": {},
   "outputs": [
    {
     "data": {
      "text/plain": [
       "AIMessage(content='Thai: นำเข้า, ส่งออก, ผลิตหมวกกันน๊อค\\nEnglish: Import, Export, Helmet Production', response_metadata={'token_usage': {'completion_tokens': 29, 'prompt_tokens': 58, 'total_tokens': 87}, 'model_name': 'scb10x/llama-3-typhoon-v1.5-8b-instruct', 'system_fingerprint': None, 'finish_reason': 'stop', 'logprobs': None}, id='run-4d43d15e-228f-4e7f-be39-dcd0acd45e26-0', usage_metadata={'input_tokens': 58, 'output_tokens': 29, 'total_tokens': 87})"
      ]
     },
     "execution_count": 8,
     "metadata": {},
     "output_type": "execute_result"
    }
   ],
   "source": [
    "chain.invoke(\"ประกอบกิจการนำเข้าส่งออกผลิตหมวกกันน๊อค\")"
   ]
  },
  {
   "cell_type": "code",
   "execution_count": 9,
   "metadata": {},
   "outputs": [
    {
     "data": {
      "text/plain": [
       "['Thai: นำเข้า, ส่งออก, ผลิตหมวกกันน๊อค',\n",
       " 'English: Import, Export, Helmet Production']"
      ]
     },
     "execution_count": 9,
     "metadata": {},
     "output_type": "execute_result"
    }
   ],
   "source": [
    "chain.invoke(\"ประกอบกิจการนำเข้าส่งออกผลิตหมวกกันน๊อค\").content.split(\"\\n\")"
   ]
  },
  {
   "cell_type": "code",
   "execution_count": 10,
   "metadata": {},
   "outputs": [
    {
     "data": {
      "text/plain": [
       "['Thai: หมวกกันน็อก, โรงงาน, นำเข้า, ส่งออก, ท่อเหล็ก, เหล็กโครงสร้างรูปพรรณ, เหล็กแผ่น',\n",
       " 'English: Motorcycle helmet, factory, import, export, steel pipe, structural steel, steel sheet.']"
      ]
     },
     "execution_count": 10,
     "metadata": {},
     "output_type": "execute_result"
    }
   ],
   "source": [
    "chain.invoke(\"ประกอบกิจการนำเข้าส่งออกผลิตหมวกกันน๊อคประกอบกิจการโรงงานผลิต นำเข้า และส่งออก ผลิตภัณฑ์ท่อเหล็ก เหล็กโครงสร้างรูปพรรณ เหล็กแผ่น\").content.split(\"\\n\")"
   ]
  },
  {
   "cell_type": "code",
   "execution_count": 11,
   "metadata": {},
   "outputs": [],
   "source": [
    "result=chain.invoke(\"ประกอบกิจการนำเข้าส่งออกวัตถุดิบและอะไหล่ยานยนต์และการให้บริการด้านการดำเนินพิธีการศุลกากร\")"
   ]
  },
  {
   "cell_type": "code",
   "execution_count": 12,
   "metadata": {},
   "outputs": [
    {
     "data": {
      "text/plain": [
       "['Thai: นำเข้าส่งออก, วัตถุดิบยานยนต์, อะไหล่ยานยนต์, ศุลกากร',\n",
       " 'English: ImportExport, AutomotiveRawMaterial, AutomotiveParts, Customs']"
      ]
     },
     "execution_count": 12,
     "metadata": {},
     "output_type": "execute_result"
    }
   ],
   "source": [
    "result.content.split(\"\\n\")"
   ]
  },
  {
   "cell_type": "code",
   "execution_count": 20,
   "metadata": {},
   "outputs": [
    {
     "data": {
      "text/plain": [
       "{'ขายส่งและส่งออกพืชผลทางการเกษตรให้เช่าทรัพย์สินและให้บริการอื่นๆ': ['Thai: ขายส่ง, ส่งออก, พืชผลทางการเกษตร, เช่าทรัพย์สิน, บริการ',\n",
       "  'English: Wholesale, Export, Agricultural produce, Rental property, Services'],\n",
       " 'ผลิตและจำหน่ายโลหะทั้งสเตนคาร์ไบด์': ['Thai: ผลิต, จำหน่าย, โลหะ, สเตนคาร์ไบด์',\n",
       "  'English: Production, Sales, Metal, Stancarbide'],\n",
       " 'ค้าส่งชุดสายไฟในรถยนต์วิจัยและพัฒนาชุดสายไฟในรถยนต์วิจัยและพัฒนาเชิงทดลองด้านวิศวกรรมเทคโนโลยี': ['Thai: ค้าส่ง, ชุดสายไฟ, รถยนต์, วิจัย, พัฒนา, ทดลอง, วิศวกรรม, เทคโนโลยี',\n",
       "  'English: Wholesale, Electrical Harness Set, Vehicle, Research, Development, Experimental, Engineering, Technology'],\n",
       " 'ให้โฆษณาบนเว็บไซต์บริการให้โหลดเพลงและภาพผ่านทางโทรศัพท์มือถือ': ['Thai: โฆษณา, เว็บไซต์, บริการ, เพลง, ภาพ, โทรศัพท์มือถือ',\n",
       "  'English: Advertisement, Website, Service, Song, Image, Mobile Phone']}"
      ]
     },
     "execution_count": 20,
     "metadata": {},
     "output_type": "execute_result"
    }
   ],
   "source": [
    "pd_list = [\n",
    "    'ขายส่งและส่งออกพืชผลทางการเกษตรให้เช่าทรัพย์สินและให้บริการอื่นๆ',\n",
    "    'ผลิตและจำหน่ายโลหะทั้งสเตนคาร์ไบด์',\n",
    "    'ค้าส่งชุดสายไฟในรถยนต์วิจัยและพัฒนาชุดสายไฟในรถยนต์วิจัยและพัฒนาเชิงทดลองด้านวิศวกรรมเทคโนโลยี',\n",
    "    'ให้โฆษณาบนเว็บไซต์บริการให้โหลดเพลงและภาพผ่านทางโทรศัพท์มือถือ'\n",
    "    ]\n",
    "\n",
    "tag_label = {}\n",
    "for pdtext in pd_list:\n",
    "    result=chain.invoke(pdtext).content.split('\\n')\n",
    "    tag_label[pdtext] = result\n",
    "tag_label"
   ]
  }
 ],
 "metadata": {
  "kernelspec": {
   "display_name": "llmsenv",
   "language": "python",
   "name": "python3"
  },
  "language_info": {
   "codemirror_mode": {
    "name": "ipython",
    "version": 3
   },
   "file_extension": ".py",
   "mimetype": "text/x-python",
   "name": "python",
   "nbconvert_exporter": "python",
   "pygments_lexer": "ipython3",
   "version": "3.11.9"
  }
 },
 "nbformat": 4,
 "nbformat_minor": 2
}
